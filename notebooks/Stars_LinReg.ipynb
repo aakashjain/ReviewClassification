{
 "cells": [
  {
   "cell_type": "code",
   "execution_count": 1,
   "metadata": {
    "collapsed": false
   },
   "outputs": [],
   "source": [
    "from sklearn.datasets import load_files\n",
    "import numpy as np\n",
    "\n",
    "categories = ['01','02','03','04','07','08','09','10']\n",
    "train = load_files('../aclImdb/train', categories=categories)\n",
    "test = load_files('../aclImdb/test', categories=categories)"
   ]
  },
  {
   "cell_type": "code",
   "execution_count": 2,
   "metadata": {
    "collapsed": false
   },
   "outputs": [],
   "source": [
    "from sklearn.feature_extraction.text import TfidfVectorizer\n",
    "\n",
    "tfidf = TfidfVectorizer(decode_error='replace', strip_accents='unicode',\n",
    "                        stop_words='english', lowercase=True,\n",
    "                        analyzer='word', ngram_range=(1,3),\n",
    "                        use_idf=True, smooth_idf=True, sublinear_tf=True)\n",
    "\n",
    "train_X = tfidf.fit_transform(train.data, train.target)\n",
    "test_X = tfidf.transform(test.data)\n",
    "\n",
    "train_y = train.target\n",
    "test_y = test.target"
   ]
  },
  {
   "cell_type": "code",
   "execution_count": 3,
   "metadata": {
    "collapsed": false
   },
   "outputs": [
    {
     "name": "stdout",
     "output_type": "stream",
     "text": [
      "0.32528\n",
      "0.67944\n",
      "0.88644\n",
      "[[2495  973  805  474  198   56   11   10]\n",
      " [ 781  522  453  316  156   60   11    3]\n",
      " [ 509  499  642  532  247   83   21    8]\n",
      " [ 280  394  629  661  422  191   45   13]\n",
      " [   5   33  129  310  581  628  402  219]\n",
      " [   3   15   68  240  531  762  654  577]\n",
      " [   3   11   38  130  358  571  551  682]\n",
      " [   2   24   66  228  565 1007 1189 1918]]\n"
     ]
    }
   ],
   "source": [
    "from sklearn.linear_model import LinearRegression\n",
    "clf = LinearRegression()\n",
    "clf.fit(train_X, train_y)\n",
    "predicted = clf.predict(test_X)\n",
    "\n",
    "import numpy as np\n",
    "from sklearn.metrics import classification_report, confusion_matrix\n",
    "\n",
    "predicted = np.clip(np.round(predicted), 0, 7)\n",
    "diff = np.abs(test_y - predicted)\n",
    "print np.mean(test_y == predicted)\n",
    "print np.mean(diff <= np.ones(len(diff)))\n",
    "print np.mean(diff <= 2*np.ones(len(diff)))\n",
    "print confusion_matrix(test_y, predicted)"
   ]
  }
 ],
 "metadata": {
  "kernelspec": {
   "display_name": "Python 2",
   "language": "python",
   "name": "python2"
  },
  "language_info": {
   "codemirror_mode": {
    "name": "ipython",
    "version": 2
   },
   "file_extension": ".py",
   "mimetype": "text/x-python",
   "name": "python",
   "nbconvert_exporter": "python",
   "pygments_lexer": "ipython2",
   "version": "2.7.9"
  }
 },
 "nbformat": 4,
 "nbformat_minor": 0
}
