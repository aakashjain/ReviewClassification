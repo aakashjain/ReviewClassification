{
 "cells": [
  {
   "cell_type": "code",
   "execution_count": 1,
   "metadata": {
    "collapsed": false
   },
   "outputs": [],
   "source": [
    "from sklearn.datasets import load_files\n",
    "\n",
    "categories = ['neg', 'pos']\n",
    "train = load_files('../aclImdb/train', categories=categories)\n",
    "test = load_files('../aclImdb/test', categories=categories)"
   ]
  },
  {
   "cell_type": "code",
   "execution_count": 2,
   "metadata": {
    "collapsed": false
   },
   "outputs": [],
   "source": [
    "from sklearn.feature_extraction.text import TfidfVectorizer\n",
    "\n",
    "tfidf = TfidfVectorizer(decode_error='replace', strip_accents='unicode',\n",
    "                        stop_words='english', lowercase=True,\n",
    "                        analyzer='word', ngram_range=(1,3),\n",
    "                        use_idf=True, smooth_idf=True, sublinear_tf=True)\n",
    "\n",
    "train_X = tfidf.fit_transform(train.data, train.target)\n",
    "test_X = tfidf.transform(test.data)\n",
    "\n",
    "train_y = train.target\n",
    "test_y = test.target"
   ]
  },
  {
   "cell_type": "code",
   "execution_count": 3,
   "metadata": {
    "collapsed": false
   },
   "outputs": [
    {
     "name": "stdout",
     "output_type": "stream",
     "text": [
      "{'loss': 'squared_hinge', 'penalty': 'l2', 'C': 2, 'dual': True}\n",
      "0.8934\n"
     ]
    }
   ],
   "source": [
    "from sklearn.svm import LinearSVC\n",
    "from sklearn.model_selection import GridSearchCV\n",
    "\n",
    "svc = LinearSVC()\n",
    "params = {'loss': ['hinge', 'squared_hinge'],\n",
    "          'penalty': ['l1', 'l2'],\n",
    "          'C': [0.1, 0.5, 1.0, 2, 4, 8, 12, 16, 32],\n",
    "          'dual': [True, False]}\n",
    "\n",
    "clf = GridSearchCV(svc, params, n_jobs=2)\n",
    "clf.fit(train_X, train_y)\n",
    "\n",
    "print clf.best_params_\n",
    "print clf.best_score_"
   ]
  },
  {
   "cell_type": "code",
   "execution_count": 4,
   "metadata": {
    "collapsed": false
   },
   "outputs": [
    {
     "name": "stdout",
     "output_type": "stream",
     "text": [
      "0.89032\n",
      "[[11116  1384]\n",
      " [ 1358 11142]]\n",
      "             precision    recall  f1-score   support\n",
      "\n",
      "        neg       0.89      0.89      0.89     12500\n",
      "        pos       0.89      0.89      0.89     12500\n",
      "\n",
      "avg / total       0.89      0.89      0.89     25000\n"
     ]
    }
   ],
   "source": [
    "predicted = clf.predict(test_X)\n",
    "\n",
    "import numpy as np\n",
    "from sklearn.metrics import classification_report, confusion_matrix\n",
    "\n",
    "print np.mean(predicted == test_y)\n",
    "print confusion_matrix(test_y, predicted)\n",
    "print classification_report(test_y, predicted, target_names=categories)"
   ]
  }
 ],
 "metadata": {
  "kernelspec": {
   "display_name": "Python 2",
   "language": "python",
   "name": "python2"
  },
  "language_info": {
   "codemirror_mode": {
    "name": "ipython",
    "version": 2
   },
   "file_extension": ".py",
   "mimetype": "text/x-python",
   "name": "python",
   "nbconvert_exporter": "python",
   "pygments_lexer": "ipython2",
   "version": "2.7.9"
  }
 },
 "nbformat": 4,
 "nbformat_minor": 0
}
