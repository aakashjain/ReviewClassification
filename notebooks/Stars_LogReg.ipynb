{
 "cells": [
  {
   "cell_type": "code",
   "execution_count": 1,
   "metadata": {
    "collapsed": false
   },
   "outputs": [],
   "source": [
    "from sklearn.datasets import load_files\n",
    "import numpy as np\n",
    "\n",
    "categories = ['01','02','03','04','07','08','09','10']\n",
    "train = load_files('../aclImdb/train', categories=categories)\n",
    "test = load_files('../aclImdb/test', categories=categories)"
   ]
  },
  {
   "cell_type": "code",
   "execution_count": 2,
   "metadata": {
    "collapsed": false
   },
   "outputs": [],
   "source": [
    "from sklearn.feature_extraction.text import TfidfVectorizer\n",
    "\n",
    "tfidf = TfidfVectorizer(decode_error='replace', strip_accents='unicode',\n",
    "                        stop_words='english', lowercase=True,\n",
    "                        analyzer='word', ngram_range=(1,3),\n",
    "                        use_idf=True, smooth_idf=True, sublinear_tf=True)\n",
    "\n",
    "train_X = tfidf.fit_transform(train.data, train.target)\n",
    "test_X = tfidf.transform(test.data)\n",
    "\n",
    "train_y = train.target\n",
    "test_y = test.target"
   ]
  },
  {
   "cell_type": "code",
   "execution_count": 3,
   "metadata": {
    "collapsed": false
   },
   "outputs": [
    {
     "name": "stdout",
     "output_type": "stream",
     "text": [
      "{'solver': 'newton-cg', multi_class': 'multinomial', 'C': 100}\n"
     ]
    }
   ],
   "source": [
    "from sklearn.linear_model import LogisticRegression\n",
    "from sklearn.model_selection import GridSearchCV\n",
    "from sklearn.metrics import make_scorer\n",
    "\n",
    "logreg = LogisticRegression()\n",
    "params = {'solver': ['newton-cg', 'lbfgs'],\n",
    "          'multi_class': ['multinomial', 'ovr'],\n",
    "          'C': [0.1, 1.0, 5, 10, 50, 100, 500, 1000]}\n",
    "\n",
    "def err1(y, pred):\n",
    "    return np.mean(np.abs(pred - y) <= np.ones(len(y)))\n",
    "\n",
    "clf = GridSearchCV(logreg, params, scoring=make_scorer(err1), n_jobs=2)\n",
    "clf.fit(train_X, train_y)\n",
    "\n",
    "print clf.best_params_"
   ]
  },
  {
   "cell_type": "code",
   "execution_count": 4,
   "metadata": {
    "collapsed": false
   },
   "outputs": [
    {
     "name": "stdout",
     "output_type": "stream",
     "text": [
      "0.43056\n",
      "0.69288\n",
      "0.85532\n",
      "[[4256   78  181  225   62   53   17  150]\n",
      " [1424  114  240  288   77   47   13   99]\n",
      " [1069  127  388  574  146   70   27  140]\n",
      " [ 720   81  378  793  312  190   26  135]\n",
      " [ 148   28   93  246  729  540   90  433]\n",
      " [ 149   17   68  145  575  736  179  981]\n",
      " [ 119   10   38   65  272  491  165 1184]\n",
      " [ 250   19   59   86  267  525  210 3583]]\n"
     ]
    }
   ],
   "source": [
    "predicted = clf.predict(test_X)\n",
    "\n",
    "import numpy as np\n",
    "from sklearn.metrics import classification_report, confusion_matrix\n",
    "\n",
    "diff = np.abs(test_y - predicted)\n",
    "print np.mean(test_y == predicted)\n",
    "print np.mean(diff <= np.ones(len(diff)))\n",
    "print np.mean(diff <= 2*np.ones(len(diff)))\n",
    "print confusion_matrix(test_y, predicted)"
   ]
  }
 ],
 "metadata": {
  "kernelspec": {
   "display_name": "Python 2",
   "language": "python",
   "name": "python2"
  },
  "language_info": {
   "codemirror_mode": {
    "name": "ipython",
    "version": 2
   },
   "file_extension": ".py",
   "mimetype": "text/x-python",
   "name": "python",
   "nbconvert_exporter": "python",
   "pygments_lexer": "ipython2",
   "version": "2.7.9"
  }
 },
 "nbformat": 4,
 "nbformat_minor": 0
}
