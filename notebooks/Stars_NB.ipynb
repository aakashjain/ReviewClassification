{
 "cells": [
  {
   "cell_type": "code",
   "execution_count": 1,
   "metadata": {
    "collapsed": false
   },
   "outputs": [],
   "source": [
    "from sklearn.datasets import load_files\n",
    "import numpy as np\n",
    "\n",
    "categories = ['01','02','03','04','07','08','09','10']\n",
    "train = load_files('../aclImdb/train', categories=categories)\n",
    "test = load_files('../aclImdb/test', categories=categories)"
   ]
  },
  {
   "cell_type": "code",
   "execution_count": 2,
   "metadata": {
    "collapsed": false
   },
   "outputs": [],
   "source": [
    "from sklearn.feature_extraction.text import TfidfVectorizer\n",
    "\n",
    "tfidf = TfidfVectorizer(decode_error='replace', strip_accents='unicode',\n",
    "                        stop_words='english', lowercase=True,\n",
    "                        analyzer='word', ngram_range=(1,3),\n",
    "                        use_idf=True, smooth_idf=True, sublinear_tf=True)\n",
    "\n",
    "train_X = tfidf.fit_transform(train.data, train.target)\n",
    "test_X = tfidf.transform(test.data)\n",
    "\n",
    "train_y = train.target\n",
    "test_y = test.target"
   ]
  },
  {
   "cell_type": "code",
   "execution_count": 3,
   "metadata": {
    "collapsed": false
   },
   "outputs": [
    {
     "name": "stdout",
     "output_type": "stream",
     "text": [
      "{'alpha': 0.1}\n",
      "0.36556"
     ]
    }
   ],
   "source": [
    "from sklearn.naive_bayes import MultinomialNB\n",
    "from sklearn.model_selection import GridSearchCV\n",
    "from sklearn.metrics import make_scorer\n",
    "\n",
    "nb = MultinomialNB()\n",
    "params = {'alpha': [0.001, 0.01, 0.1, 1, 2, 4, 8]}\n",
    "\n",
    "def err1(y, pred):\n",
    "    return np.mean(np.abs(pred - y) <= np.ones(len(y)))\n",
    "\n",
    "clf = GridSearchCV(nb, params, scoring=make_scorer(err1), n_jobs=2)\n",
    "clf.fit(train_X, train_y)\n",
    "\n",
    "print clf.best_params_\n",
    "print clf.best_score_"
   ]
  },
  {
   "cell_type": "code",
   "execution_count": 4,
   "metadata": {
    "collapsed": false
   },
   "outputs": [
    {
     "name": "stdout",
     "output_type": "stream",
     "text": [
      "0.35772\n",
      "0.51604\n",
      "0.68612\n",
      "[[4905    0    0    0    0    0    0  117]\n",
      " [2169   15    0    0    0    0    0  118]\n",
      " [2292    0   24    0    0    0    0  225]\n",
      " [2175    0    0   23    1    3    0  433]\n",
      " [ 967    0    0    1    3    7    0 1329]\n",
      " [ 874    0    0    0    1   19    0 1956]\n",
      " [ 556    0    0    0    0    1    9 1778]\n",
      " [1052    0    0    0    1    1    0 3945]]\n"
     ]
    }
   ],
   "source": [
    "predicted = clf.predict(test_X)\n",
    "\n",
    "from sklearn.metrics import classification_report, confusion_matrix\n",
    "\n",
    "diff = np.abs(test_y - predicted)\n",
    "print np.mean(test_y == predicted)\n",
    "print np.mean(diff <= np.ones(len(diff)))\n",
    "print np.mean(diff <= 2*np.ones(len(diff)))\n",
    "print confusion_matrix(test_y, predicted)\n"
   ]
  }
 ],
 "metadata": {
  "kernelspec": {
   "display_name": "Python 2",
   "language": "python",
   "name": "python2"
  },
  "language_info": {
   "codemirror_mode": {
    "name": "ipython",
    "version": 2
   },
   "file_extension": ".py",
   "mimetype": "text/x-python",
   "name": "python",
   "nbconvert_exporter": "python",
   "pygments_lexer": "ipython2",
   "version": "2.7.9"
  }
 },
 "nbformat": 4,
 "nbformat_minor": 0
}
