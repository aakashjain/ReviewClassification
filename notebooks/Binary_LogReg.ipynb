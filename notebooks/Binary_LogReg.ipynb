{
 "cells": [
  {
   "cell_type": "code",
   "execution_count": 1,
   "metadata": {
    "collapsed": false
   },
   "outputs": [],
   "source": [
    "from sklearn.datasets import load_files\n",
    "\n",
    "categories = ['neg', 'pos']\n",
    "train = load_files('../aclImdb/train', categories=categories)\n",
    "test = load_files('../aclImdb/test', categories=categories)"
   ]
  },
  {
   "cell_type": "code",
   "execution_count": 2,
   "metadata": {
    "collapsed": false
   },
   "outputs": [],
   "source": [
    "from sklearn.feature_extraction.text import TfidfVectorizer\n",
    "\n",
    "tfidf = TfidfVectorizer(decode_error='replace', strip_accents='unicode',\n",
    "                        stop_words='english', lowercase=True,\n",
    "                        analyzer='word', ngram_range=(1,3),\n",
    "                        use_idf=True, smooth_idf=True, sublinear_tf=True)\n",
    "\n",
    "train_X = tfidf.fit_transform(train.data, train.target)\n",
    "test_X = tfidf.transform(test.data)\n",
    "\n",
    "train_y = train.target\n",
    "test_y = test.target"
   ]
  },
  {
   "cell_type": "code",
   "execution_count": 3,
   "metadata": {
    "collapsed": false
   },
   "outputs": [
    {
     "name": "stdout",
     "output_type": "stream",
     "text": [
      "{'solver': 'newton-cg', multi_class': 'multinomial', 'C': 100}\n"
     ]
    }
   ],
   "source": [
    "from sklearn.linear_model import LogisticRegression\n",
    "from sklearn.model_selection import GridSearchCV\n",
    "\n",
    "logreg = LogisticRegression()\n",
    "params = {'solver': ['newton-cg', 'lbfgs'],\n",
    "          'multi_class': ['multinomial', 'ovr'],\n",
    "          'C': [0.1, 1.0, 5, 10, 50, 100, 500, 1000]}\n",
    "\n",
    "clf = GridSearchCV(logreg, params, n_jobs=2)\n",
    "clf.fit(train_X, train_y)\n",
    "\n",
    "print clf.best_params_"
   ]
  },
  {
   "cell_type": "code",
   "execution_count": 4,
   "metadata": {
    "collapsed": false
   },
   "outputs": [
    {
     "name": "stdout",
     "output_type": "stream",
     "text": [
      "0.88788\n",
      "[[11090  1410]\n",
      " [ 1393 11107]]\n",
      "             precision    recall  f1-score   support\n",
      "\n",
      "        neg       0.89      0.89      0.89     12500\n",
      "        pos       0.89      0.89      0.89     12500\n",
      "\n",
      "avg / total       0.89      0.89      0.89     25000\n"
     ]
    }
   ],
   "source": [
    "predicted = clf.predict(test_X)\n",
    "\n",
    "import numpy as np\n",
    "from sklearn.metrics import classification_report, confusion_matrix\n",
    "\n",
    "print np.mean(predicted == test_y)\n",
    "print confusion_matrix(test_y, predicted)\n",
    "print classification_report(test_y, predicted, target_names=categories)"
   ]
  }
 ],
 "metadata": {
  "kernelspec": {
   "display_name": "Python 2",
   "language": "python",
   "name": "python2"
  },
  "language_info": {
   "codemirror_mode": {
    "name": "ipython",
    "version": 2
   },
   "file_extension": ".py",
   "mimetype": "text/x-python",
   "name": "python",
   "nbconvert_exporter": "python",
   "pygments_lexer": "ipython2",
   "version": "2.7.9"
  }
 },
 "nbformat": 4,
 "nbformat_minor": 0
}
