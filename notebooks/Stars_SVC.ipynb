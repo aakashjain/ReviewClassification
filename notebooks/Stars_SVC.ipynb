{
 "cells": [
  {
   "cell_type": "code",
   "execution_count": 1,
   "metadata": {
    "collapsed": false
   },
   "outputs": [],
   "source": [
    "from sklearn.datasets import load_files\n",
    "import numpy as np\n",
    "\n",
    "categories = ['01','02','03','04','07','08','09','10']\n",
    "train = load_files('../aclImdb/train', categories=categories)\n",
    "test = load_files('../aclImdb/test', categories=categories)"
   ]
  },
  {
   "cell_type": "code",
   "execution_count": 2,
   "metadata": {
    "collapsed": false
   },
   "outputs": [],
   "source": [
    "from sklearn.feature_extraction.text import TfidfVectorizer\n",
    "\n",
    "tfidf = TfidfVectorizer(decode_error='replace', strip_accents='unicode',\n",
    "                        stop_words='english', lowercase=True,\n",
    "                        analyzer='word', ngram_range=(1,3),\n",
    "                        use_idf=True, smooth_idf=True, sublinear_tf=True)\n",
    "\n",
    "train_X = tfidf.fit_transform(train.data, train.target)\n",
    "test_X = tfidf.transform(test.data)\n",
    "\n",
    "train_y = train.target\n",
    "test_y = test.target"
   ]
  },
  {
   "cell_type": "code",
   "execution_count": 3,
   "metadata": {
    "collapsed": false
   },
   "outputs": [
    {
     "name": "stdout",
     "output_type": "stream",
     "text": [
      "{'loss': 'squared_hinge', 'penalty': 'l2', 'C': 2, 'multi_class': 'ovr', 'dual': True}\n",
      "0.43244"
     ]
    }
   ],
   "source": [
    "from sklearn.svm import LinearSVC\n",
    "from sklearn.model_selection import GridSearchCV\n",
    "from sklearn.metrics import make_scorer\n",
    "\n",
    "svc = LinearSVC()\n",
    "params = {'loss': ['hinge', 'squared_hinge'],\n",
    "          'penalty': ['l1', 'l2'],\n",
    "          'C': [0.1, 0.5, 1.0, 2, 4, 8, 12, 16, 32],\n",
    "          'multi_class': ['ovr', 'crammer-singer'],\n",
    "          'dual': [True, False]}\n",
    "\n",
    "def err1(y, pred):\n",
    "    return np.mean(np.abs(pred - y) <= np.ones(len(y)))\n",
    "\n",
    "clf = GridSearchCV(svc, params, scoring=make_scorer(err1), n_jobs=2)\n",
    "clf.fit(train_X, train_y)\n",
    "\n",
    "print clf.best_params_\n",
    "print clf.best_score_"
   ]
  },
  {
   "cell_type": "code",
   "execution_count": 4,
   "metadata": {
    "collapsed": false,
    "scrolled": true
   },
   "outputs": [
    {
     "name": "stdout",
     "output_type": "stream",
     "text": [
      "0.42684\n",
      "0.68876\n",
      "0.85386\n",
      "[[4220  111  178  216   55   56   26  160]\n",
      " [1412  136  225  283   85   46   23   92]\n",
      " [1070  163  382  523  154   85   31  133]\n",
      " [ 712  114  389  750  308  190   44  128]\n",
      " [ 138   42  101  246  675  517  134  454]\n",
      " [ 136   22   83  147  534  697  214 1017]\n",
      " [ 118   19   36   65  256  454  195 1201]\n",
      " [ 242   25   58   87  249  463  259 3616]]\n"
     ]
    }
   ],
   "source": [
    "predicted = clf.predict(test_X)\n",
    "\n",
    "import numpy as np\n",
    "from sklearn.metrics import classification_report, confusion_matrix\n",
    "\n",
    "diff = np.abs(test_y - predicted)\n",
    "print np.mean(test_y == predicted)\n",
    "print np.mean(diff <= np.ones(len(diff)))\n",
    "print np.mean(diff <= 2*np.ones(len(diff)))\n",
    "print confusion_matrix(test_y, predicted)\n"
   ]
  }
 ],
 "metadata": {
  "kernelspec": {
   "display_name": "Python 2",
   "language": "python",
   "name": "python2"
  },
  "language_info": {
   "codemirror_mode": {
    "name": "ipython",
    "version": 2
   },
   "file_extension": ".py",
   "mimetype": "text/x-python",
   "name": "python",
   "nbconvert_exporter": "python",
   "pygments_lexer": "ipython2",
   "version": "2.7.9"
  }
 },
 "nbformat": 4,
 "nbformat_minor": 0
}
