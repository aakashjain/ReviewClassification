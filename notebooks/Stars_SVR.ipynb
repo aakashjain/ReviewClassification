{
 "cells": [
  {
   "cell_type": "code",
   "execution_count": 1,
   "metadata": {
    "collapsed": false
   },
   "outputs": [],
   "source": [
    "from sklearn.datasets import load_files\n",
    "import numpy as np\n",
    "\n",
    "categories = ['01','02','03','04','07','08','09','10']\n",
    "train = load_files('../aclImdb/train', categories=categories)\n",
    "test = load_files('../aclImdb/test', categories=categories)"
   ]
  },
  {
   "cell_type": "code",
   "execution_count": 2,
   "metadata": {
    "collapsed": false
   },
   "outputs": [],
   "source": [
    "from sklearn.feature_extraction.text import TfidfVectorizer\n",
    "\n",
    "tfidf = TfidfVectorizer(decode_error='replace', strip_accents='unicode',\n",
    "                        stop_words='english', lowercase=True,\n",
    "                        analyzer='word', ngram_range=(1,3),\n",
    "                        use_idf=True, smooth_idf=True, sublinear_tf=True)\n",
    "\n",
    "train_X = tfidf.fit_transform(train.data, train.target)\n",
    "test_X = tfidf.transform(test.data)\n",
    "\n",
    "train_y = train.target\n",
    "test_y = test.target"
   ]
  },
  {
   "cell_type": "code",
   "execution_count": 3,
   "metadata": {
    "collapsed": false
   },
   "outputs": [
    {
     "name": "stdout",
     "output_type": "stream",
     "text": [
      "{'epsilon': 0.001, 'C': 50, 'loss': 'epsilon_insensitive', 'dual': True}\n"
     ]
    }
   ],
   "source": [
    "from sklearn.svm import LinearSVR\n",
    "from sklearn.model_selection import GridSearchCV\n",
    "from sklearn.metrics import make_scorer\n",
    "\n",
    "svr = LinearSVR()\n",
    "params = {'epsilon': [0.0001, 0.001, 0.01, 0.1, 1, 10, 100],\n",
    "          'C': [0.1, 1, 5, 10, 50, 100, 500, 1000],\n",
    "          'loss': ['epsilon_insensitive', 'squared_epsilon_insensitive'],\n",
    "          'dual': [True, False]}\n",
    "\n",
    "def err1(y, pred):\n",
    "    pred = np.clip(np.round(pred), 0, 7)\n",
    "    return np.mean(np.abs(pred - y) <= np.ones(len(y)))\n",
    "\n",
    "clf = GridSearchCV(svr, params, scoring=make_scorer(err1), n_jobs=2)\n",
    "clf.fit(train_X, train_y)\n",
    "\n",
    "print clf.best_params_"
   ]
  },
  {
   "cell_type": "code",
   "execution_count": 4,
   "metadata": {
    "collapsed": false
   },
   "outputs": [
    {
     "name": "stdout",
     "output_type": "stream",
     "text": [
      "0.32412\n",
      "0.67856\n",
      "0.88612\n",
      "[[2565  965  784  451  189   50    8   10]\n",
      " [ 815  521  450  307  142   54   11    2]\n",
      " [ 547  524  614  531  222   77   19    7]\n",
      " [ 301  411  640  650  408  178   38    9]\n",
      " [   7   41  141  320  593  630  382  193]\n",
      " [   3   15   77  265  547  783  618  542]\n",
      " [   4   10   40  144  376  581  544  645]\n",
      " [   3   28   67  245  602 1034 1187 1833]]\n"
     ]
    }
   ],
   "source": [
    "predicted = clf.predict(test_X)\n",
    "\n",
    "import numpy as np\n",
    "from sklearn.metrics import classification_report, confusion_matrix\n",
    "\n",
    "predicted = np.clip(np.round(predicted), 0, 7)\n",
    "diff = np.abs(test_y - predicted)\n",
    "print np.mean(test_y == predicted)\n",
    "print np.mean(diff <= np.ones(len(diff)))\n",
    "print np.mean(diff <= 2*np.ones(len(diff)))\n",
    "print confusion_matrix(test_y, predicted)"
   ]
  }
 ],
 "metadata": {
  "kernelspec": {
   "display_name": "Python 2",
   "language": "python",
   "name": "python2"
  },
  "language_info": {
   "codemirror_mode": {
    "name": "ipython",
    "version": 2
   },
   "file_extension": ".py",
   "mimetype": "text/x-python",
   "name": "python",
   "nbconvert_exporter": "python",
   "pygments_lexer": "ipython2",
   "version": "2.7.9"
  }
 },
 "nbformat": 4,
 "nbformat_minor": 0
}
